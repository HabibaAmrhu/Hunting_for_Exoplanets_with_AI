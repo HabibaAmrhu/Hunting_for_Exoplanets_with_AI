{
 "cells": [
  {
   "cell_type": "markdown",
   "metadata": {},
   "source": [
    "# Model Evaluation and Explainability Analysis\\n",
    "\\n",
    "This notebook provides comprehensive evaluation and explainability analysis for our exoplanet detection models. We'll assess performance, understand model decisions, and ensure reliability for scientific applications.\\n",
    "\\n",
    "## Objectives:\\n",
    "1. **Comprehensive Evaluation**: Multi-metric assessment across different data splits\\n",
    "2. **Model Explainability**: Understand what features drive predictions\\n",
    "3. **Error Analysis**: Identify failure modes and edge cases\\n",
    "4. **Robustness Testing**: Evaluate performance under various conditions\\n",
    "5. **Scientific Validation**: Ensure results align with astrophysical knowledge"
   ]
  },
  {
   "cell_type": "code",
   "execution_count": null,
   "metadata": {},
   "outputs": [],
   "source": [
    "# Setup and imports\\n",
    "import sys\\n",
    "import os\\n",
    "from pathlib import Path\\n",
    "import warnings\\n",
    "warnings.filterwarnings('ignore')\\n",
    "\\n",
    "# Add src to path\\n",
    "sys.path.insert(0, str(Path.cwd().parent / 'src'))\\n",
    "\\n",
    "import numpy as np\\n",
    "import pandas as pd\\n",
    "import matplotlib.pyplot as plt\\n",
    "import seaborn as sns\\n",
    "from tqdm import tqdm\\n",
    "import torch\\n",
    "import torch.nn as nn\\n",
    "from torch.utils.data import DataLoader\\n",
    "from sklearn.metrics import classification_report, confusion_matrix, roc_curve, precision_recall_curve\\n",
    "import plotly.graph_objects as go\\n",
    "import plotly.express as px\\n",
    "from plotly.subplots import make_subplots\\n",
    "\\n",
    "# Import our modules\\n",
    "from models.cnn import ExoplanetCNN\\n",
    "from models.ensemble import EnsembleModel\\n",
    "from training.metrics import MetricsCalculator\\n",
    "from explainability.explainer import IntegratedGradientsExplainer\\n",
    "from data.dataset import LightCurveDataset, collate_fn\\n",
    "from utils.reproducibility import set_seed\\n",
    "\\n",
    "# Set style and seed\\n",
    "plt.style.use('seaborn-v0_8')\\n",
    "sns.set_palette('husl')\\n",
    "set_seed(42)\\n",
    "\\n",
    "print(\\\"Environment setup complete!\\\")\\n",
    "print(f\\\"PyTorch version: {torch.__version__}\\\")\\n",
    "print(f\\\"CUDA available: {torch.cuda.is_available()}\\\")"
   ]
  }
 ],
 "metadata": {
  "kernelspec": {
   "display_name": "Python 3",
   "language": "python",
   "name": "python3"
  },
  "language_info": {
   "codemirror_mode": {
    "name": "ipython",
    "version": 3
   },
   "file_extension": ".py",
   "mimetype": "text/x-python",
   "name": "python",
   "nbconvert_exporter": "python",
   "pygments_lexer": "ipython3",
   "version": "3.8.5"
  }
 },
 "nbformat": 4,
 "nbformat_minor": 4
}