{
 "cells": [
  {
   "cell_type": "markdown",
   "metadata": {},
   "source": [
    "# Ensemble Model Training and Evaluation\\n",
    "\\n",
    "This notebook demonstrates advanced ensemble techniques for exoplanet detection, combining multiple model architectures to achieve superior performance through diversity and uncertainty quantification.\\n",
    "\\n",
    "## Objectives:\\n",
    "1. **Multi-Architecture Ensemble**: Combine CNN, LSTM, and Transformer models\\n",
    "2. **Uncertainty Quantification**: Implement Monte Carlo Dropout and ensemble variance\\n",
    "3. **Weighted Voting**: Optimize ensemble combination strategies\\n",
    "4. **Performance Analysis**: Compare individual vs ensemble performance\\n",
    "5. **Calibration**: Ensure prediction confidence reflects true accuracy"
   ]
  },
  {
   "cell_type": "code",
   "execution_count": null,
   "metadata": {},
   "outputs": [],
   "source": [
    "# Setup and imports\\n",
    "import sys\\n",
    "import os\\n",
    "from pathlib import Path\\n",
    "import warnings\\n",
    "warnings.filterwarnings('ignore')\\n",
    "\\n",
    "# Add src to path\\n",
    "sys.path.insert(0, str(Path.cwd().parent / 'src'))\\n",
    "\\n",
    "import numpy as np\\n",
    "import pandas as pd\\n",
    "import matplotlib.pyplot as plt\\n",
    "import seaborn as sns\\n",
    "from tqdm import tqdm\\n",
    "import torch\\n",
    "import torch.nn as nn\\n",
    "import torch.nn.functional as F\\n",
    "from torch.utils.data import DataLoader\\n",
    "from sklearn.metrics import calibration_curve, brier_score_loss\\n",
    "import plotly.graph_objects as go\\n",
    "import plotly.express as px\\n",
    "from plotly.subplots import make_subplots\\n",
    "\\n",
    "# Import our modules\\n",
    "from models.cnn import ExoplanetCNN\\n",
    "from models.lstm import ExoplanetLSTM\\n",
    "from models.transformer import ExoplanetTransformer\\n",
    "from models.ensemble import EnsembleModel, UncertaintyQuantifier\\n",
    "from training.trainer import ExoplanetTrainer, create_optimizer, create_scheduler\\n",
    "from training.metrics import MetricsCalculator\\n",
    "from data.dataset import LightCurveDataset, collate_fn\\n",
    "from utils.reproducibility import set_seed\\n",
    "\\n",
    "# Set style and seed\\n",
    "plt.style.use('seaborn-v0_8')\\n",
    "sns.set_palette('husl')\\n",
    "set_seed(42)\\n",
    "\\n",
    "print(\\\"Environment setup complete!\\\")\\n",
    "print(f\\\"PyTorch version: {torch.__version__}\\\")\\n",
    "print(f\\\"CUDA available: {torch.cuda.is_available()}\\\")"
   ]
  }
 ],
 "metadata": {
  "kernelspec": {
   "display_name": "Python 3",
   "language": "python",
   "name": "python3"
  },
  "language_info": {
   "codemirror_mode": {
    "name": "ipython",
    "version": 3
   },
   "file_extension": ".py",
   "mimetype": "text/x-python",
   "name": "python",
   "nbconvert_exporter": "python",
   "pygments_lexer": "ipython3",
   "version": "3.8.5"
  }
 },
 "nbformat": 4,
 "nbformat_minor": 4
}